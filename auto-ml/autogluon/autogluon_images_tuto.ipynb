{
 "cells": [
  {
   "cell_type": "code",
   "execution_count": 1,
   "metadata": {},
   "outputs": [
    {
     "name": "stderr",
     "output_type": "stream",
     "text": [
      "/opt/anaconda3/lib/python3.7/site-packages/mxnet/optimizer/optimizer.py:167: UserWarning: WARNING: New optimizer gluonnlp.optimizer.lamb.LAMB is overriding existing optimizer mxnet.optimizer.optimizer.LAMB\n",
      "  Optimizer.opt_registry[name].__name__))\n"
     ]
    }
   ],
   "source": [
    "import autogluon as ag\n",
    "import os\n",
    "from autogluon import ObjectDetection as task"
   ]
  },
  {
   "cell_type": "code",
   "execution_count": 5,
   "metadata": {},
   "outputs": [],
   "source": [
    "root = './'"
   ]
  },
  {
   "cell_type": "code",
   "execution_count": 6,
   "metadata": {},
   "outputs": [
    {
     "name": "stdout",
     "output_type": "stream",
     "text": [
      "tiny_motorbike\n"
     ]
    }
   ],
   "source": [
    "# 1ere fois ...\n",
    "filename_zip = ag.download('https://autogluon.s3.amazonaws.com/datasets/tiny_motorbike.zip', path=root)\n",
    "filename = ag.unzip(filename_zip, root=root)\n",
    "print (filename)"
   ]
  },
  {
   "cell_type": "code",
   "execution_count": 7,
   "metadata": {},
   "outputs": [],
   "source": [
    "# Si le zip est déjà téléchargé ...\n",
    "filename = 'tiny_motorbike'"
   ]
  },
  {
   "cell_type": "code",
   "execution_count": 8,
   "metadata": {},
   "outputs": [
    {
     "name": "stderr",
     "output_type": "stream",
     "text": [
      ">>> create dataset(VOC format) \n"
     ]
    }
   ],
   "source": [
    "data_root = os.path.join(root, filename)\n",
    "dataset_train = task.Dataset(data_root, classes=('motorbike',))"
   ]
  },
  {
   "cell_type": "code",
   "execution_count": null,
   "metadata": {
    "slideshow": {
     "slide_type": "subslide"
    }
   },
   "outputs": [
    {
     "name": "stderr",
     "output_type": "stream",
     "text": [
      "Starting Experiments\n",
      "Num of Finished Tasks is 0\n",
      "Num of Pending Tasks is 2\n"
     ]
    },
    {
     "name": "stdout",
     "output_type": "stream",
     "text": [
      "scheduler: FIFOScheduler(\n",
      "DistributedResourceManager{\n",
      "(Remote: Remote REMOTE_ID: 0, \n",
      "\t<Remote: 'inproc://192.168.0.130/23884/1' processes=1 threads=8, memory=33.29 GB>, Resource: NodeResourceManager(8 CPUs, 1 GPUs))\n",
      "})\n",
      "\n"
     ]
    },
    {
     "data": {
      "application/vnd.jupyter.widget-view+json": {
       "model_id": "240912a6aff0438b84e6025788e8875f",
       "version_major": 2,
       "version_minor": 0
      },
      "text/plain": [
       "HBox(children=(FloatProgress(value=0.0, max=2.0), HTML(value='')))"
      ]
     },
     "metadata": {},
     "output_type": "display_data"
    }
   ],
   "source": [
    "time_limits = 1*60*60  # 1 hours\n",
    "epochs = 30\n",
    "detector = task.fit(dataset_train,\n",
    "                    num_trials=2,\n",
    "                    epochs=epochs,\n",
    "                    lr=ag.Categorical(5e-4, 1e-4),\n",
    "                    ngpus_per_trial=1,\n",
    "                    time_limits=time_limits)"
   ]
  },
  {
   "cell_type": "code",
   "execution_count": null,
   "metadata": {},
   "outputs": [],
   "source": [
    "dataset_test = task.Dataset(data_root, index_file_name='test', classes=('motorbike',))\n",
    "test_map = detector.evaluate(dataset_test)\n",
    "print(\"mAP on test dataset: {}\".format(test_map[1][1]))"
   ]
  },
  {
   "cell_type": "code",
   "execution_count": null,
   "metadata": {},
   "outputs": [],
   "source": [
    "image = '000467.jpg'\n",
    "image_path = os.path.join(data_root, 'JPEGImages', image)\n",
    "\n",
    "ind, prob, loc = detector.predict(image_path)"
   ]
  },
  {
   "cell_type": "code",
   "execution_count": null,
   "metadata": {},
   "outputs": [],
   "source": []
  }
 ],
 "metadata": {
  "kernelspec": {
   "display_name": "Python 3",
   "language": "python",
   "name": "python3"
  },
  "language_info": {
   "codemirror_mode": {
    "name": "ipython",
    "version": 3
   },
   "file_extension": ".py",
   "mimetype": "text/x-python",
   "name": "python",
   "nbconvert_exporter": "python",
   "pygments_lexer": "ipython3",
   "version": "3.7.6"
  }
 },
 "nbformat": 4,
 "nbformat_minor": 4
}
