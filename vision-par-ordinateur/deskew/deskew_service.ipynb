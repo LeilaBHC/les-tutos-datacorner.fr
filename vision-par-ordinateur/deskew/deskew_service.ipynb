{
 "cells": [
  {
   "cell_type": "code",
   "execution_count": 1,
   "metadata": {},
   "outputs": [],
   "source": [
    "import numpy as np\n",
    "from skimage import io\n",
    "from skimage.transform import rotate\n",
    "from skimage.color import rgb2gray\n",
    "from deskew import determine_skew\n",
    "import cv2\n",
    "import pytesseract\n",
    "import re\n",
    "from pytesseract import Output"
   ]
  },
  {
   "cell_type": "code",
   "execution_count": 2,
   "metadata": {},
   "outputs": [],
   "source": [
    "image1 = 'img_15ah.jpg'\n",
    "image2 = 'img_35h.jpg'\n",
    "image3 = 'img.jpg'"
   ]
  },
  {
   "cell_type": "code",
   "execution_count": 3,
   "metadata": {},
   "outputs": [],
   "source": [
    "def deskew(_img):\n",
    "    image = io.imread(_img)\n",
    "    grayscale = rgb2gray(image)\n",
    "    angle = determine_skew(grayscale)\n",
    "    rotated = rotate(image, angle, resize=True) * 255\n",
    "    return rotated.astype(np.uint8)"
   ]
  },
  {
   "cell_type": "markdown",
   "metadata": {},
   "source": [
    "## Récupération des données alphanumériques"
   ]
  },
  {
   "cell_type": "code",
   "execution_count": null,
   "metadata": {},
   "outputs": [],
   "source": [
    "\n",
    "def gettextFromSkewedImage(image):\n",
    "    textes = []\n",
    "    deskewedimage = deskew(image)\n",
    "    text_pattern = \"[a-zA-Z0-9]\"\n",
    "    d = pytesseract.image_to_data(deskewedimage, output_type=Output.DICT)\n",
    "    for i in range(len(d['text'])):\n",
    "        if int(d['conf'][i]) > 60:\n",
    "            if re.match(text_pattern, d['text'][i]):\n",
    "                textes.append(d['text'][i])\n",
    "    return textes"
   ]
  },
  {
   "cell_type": "code",
   "execution_count": 4,
   "metadata": {},
   "outputs": [
    {
     "data": {
      "text/plain": [
       "['Bonjour']"
      ]
     },
     "execution_count": 4,
     "metadata": {},
     "output_type": "execute_result"
    }
   ],
   "source": [
    "gettextFromSkewedImage(image1)"
   ]
  },
  {
   "cell_type": "code",
   "execution_count": 5,
   "metadata": {},
   "outputs": [
    {
     "data": {
      "text/plain": [
       "['Bonjour']"
      ]
     },
     "execution_count": 5,
     "metadata": {},
     "output_type": "execute_result"
    }
   ],
   "source": [
    "gettextFromSkewedImage(image2)"
   ]
  },
  {
   "cell_type": "code",
   "execution_count": 6,
   "metadata": {},
   "outputs": [
    {
     "data": {
      "text/plain": [
       "['Bonjour']"
      ]
     },
     "execution_count": 6,
     "metadata": {},
     "output_type": "execute_result"
    }
   ],
   "source": [
    "gettextFromSkewedImage(image3)"
   ]
  },
  {
   "cell_type": "code",
   "execution_count": null,
   "metadata": {},
   "outputs": [],
   "source": []
  }
 ],
 "metadata": {
  "kernelspec": {
   "display_name": "Python 3",
   "language": "python",
   "name": "python3"
  },
  "language_info": {
   "codemirror_mode": {
    "name": "ipython",
    "version": 3
   },
   "file_extension": ".py",
   "mimetype": "text/x-python",
   "name": "python",
   "nbconvert_exporter": "python",
   "pygments_lexer": "ipython3",
   "version": "3.7.6"
  }
 },
 "nbformat": 4,
 "nbformat_minor": 4
}
