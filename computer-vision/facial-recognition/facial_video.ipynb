{
 "cells": [
  {
   "cell_type": "code",
   "execution_count": 15,
   "metadata": {},
   "outputs": [],
   "source": [
    "import numpy\n",
    "import cv2 as cv\n",
    "import time"
   ]
  },
  {
   "cell_type": "markdown",
   "metadata": {},
   "source": [
    "### Display OpenCV informations"
   ]
  },
  {
   "cell_type": "code",
   "execution_count": 16,
   "metadata": {},
   "outputs": [
    {
     "name": "stdout",
     "output_type": "stream",
     "text": [
      "\n",
      "General configuration for OpenCV 4.1.2 =====================================\n",
      "  Version control:               4.1.2\n",
      "\n",
      "  Platform:\n",
      "    Timestamp:                   2019-11-21T23:50:25Z\n",
      "    Host:                        Linux 4.15.0-1028-gcp x86_64\n",
      "    CMake:                       3.9.0\n",
      "    CMake generator:             Unix Makefiles\n",
      "    CMake build tool:            /usr/bin/gmake\n",
      "    Configuration:               Release\n",
      "\n",
      "  CPU/HW features:\n",
      "    Baseline:                    SSE SSE2 SSE3\n",
      "      requested:                 SSE3\n",
      "    Dispatched code generation:  SSE4_1 SSE4_2 FP16 AVX\n",
      "      requested:                 SSE4_1 SSE4_2 AVX FP16 AVX2 AVX512_SKX\n",
      "      SSE4_1 (14 files):         + SSSE3 SSE4_1\n",
      "      SSE4_2 (1 files):          + SSSE3 SSE4_1 POPCNT SSE4_2\n",
      "      FP16 (0 files):            + SSSE3 SSE4_1 POPCNT SSE4_2 FP16 AVX\n",
      "      AVX (4 files):             + SSSE3 SSE4_1 POPCNT SSE4_2 AVX\n",
      "\n",
      "  C/C++:\n",
      "    Built as dynamic libs?:      NO\n",
      "    C++ Compiler:                /usr/lib/ccache/compilers/c++  (ver 4.8.2)\n",
      "    C++ flags (Release):         -Wl,-strip-all   -fsigned-char -W -Wall -Werror=return-type -Werror=non-virtual-dtor -Werror=address -Werror=sequence-point -Wformat -Werror=format-security -Wmissing-declarations -Wundef -Winit-self -Wpointer-arith -Wsign-promo -Wuninitialized -Winit-self -Wno-delete-non-virtual-dtor -Wno-comment -Wno-missing-field-initializers -fdiagnostics-show-option -Wno-long-long -pthread -fomit-frame-pointer -ffunction-sections -fdata-sections  -msse -msse2 -msse3 -fvisibility=hidden -fvisibility-inlines-hidden -O3 -DNDEBUG  -DNDEBUG\n",
      "    C++ flags (Debug):           -Wl,-strip-all   -fsigned-char -W -Wall -Werror=return-type -Werror=non-virtual-dtor -Werror=address -Werror=sequence-point -Wformat -Werror=format-security -Wmissing-declarations -Wundef -Winit-self -Wpointer-arith -Wsign-promo -Wuninitialized -Winit-self -Wno-delete-non-virtual-dtor -Wno-comment -Wno-missing-field-initializers -fdiagnostics-show-option -Wno-long-long -pthread -fomit-frame-pointer -ffunction-sections -fdata-sections  -msse -msse2 -msse3 -fvisibility=hidden -fvisibility-inlines-hidden -g  -O0 -DDEBUG -D_DEBUG\n",
      "    C Compiler:                  /usr/lib/ccache/compilers/cc\n",
      "    C flags (Release):           -Wl,-strip-all   -fsigned-char -W -Wall -Werror=return-type -Werror=non-virtual-dtor -Werror=address -Werror=sequence-point -Wformat -Werror=format-security -Wmissing-declarations -Wmissing-prototypes -Wstrict-prototypes -Wundef -Winit-self -Wpointer-arith -Wuninitialized -Winit-self -Wno-comment -Wno-missing-field-initializers -fdiagnostics-show-option -Wno-long-long -pthread -fomit-frame-pointer -ffunction-sections -fdata-sections  -msse -msse2 -msse3 -fvisibility=hidden -O3 -DNDEBUG  -DNDEBUG\n",
      "    C flags (Debug):             -Wl,-strip-all   -fsigned-char -W -Wall -Werror=return-type -Werror=non-virtual-dtor -Werror=address -Werror=sequence-point -Wformat -Werror=format-security -Wmissing-declarations -Wmissing-prototypes -Wstrict-prototypes -Wundef -Winit-self -Wpointer-arith -Wuninitialized -Winit-self -Wno-comment -Wno-missing-field-initializers -fdiagnostics-show-option -Wno-long-long -pthread -fomit-frame-pointer -ffunction-sections -fdata-sections  -msse -msse2 -msse3 -fvisibility=hidden -g  -O0 -DDEBUG -D_DEBUG\n",
      "    Linker flags (Release):      -L/root/ffmpeg_build/lib  -Wl,--gc-sections  \n",
      "    Linker flags (Debug):        -L/root/ffmpeg_build/lib  -Wl,--gc-sections  \n",
      "    ccache:                      YES\n",
      "    Precompiled headers:         NO\n",
      "    Extra dependencies:          ade /opt/Qt4.8.7/lib/libQtGui.so /opt/Qt4.8.7/lib/libQtTest.so /opt/Qt4.8.7/lib/libQtCore.so /lib64/libz.so dl m pthread rt\n",
      "    3rdparty dependencies:       ittnotify libprotobuf libjpeg-turbo libwebp libpng libtiff libjasper IlmImf quirc\n",
      "\n",
      "  OpenCV modules:\n",
      "    To be built:                 calib3d core dnn features2d flann gapi highgui imgcodecs imgproc ml objdetect photo python3 stitching video videoio\n",
      "    Disabled:                    world\n",
      "    Disabled by dependency:      -\n",
      "    Unavailable:                 java js python2 ts\n",
      "    Applications:                -\n",
      "    Documentation:               NO\n",
      "    Non-free algorithms:         NO\n",
      "\n",
      "  GUI: \n",
      "    QT:                          YES (ver 4.8.7 EDITION = OpenSource)\n",
      "      QT OpenGL support:         NO\n",
      "    GTK+:                        NO\n",
      "    VTK support:                 NO\n",
      "\n",
      "  Media I/O: \n",
      "    ZLib:                        /lib64/libz.so (ver 1.2.3)\n",
      "    JPEG:                        libjpeg-turbo (ver 2.0.2-62)\n",
      "    WEBP:                        build (ver encoder: 0x020e)\n",
      "    PNG:                         build (ver 1.6.37)\n",
      "    TIFF:                        build (ver 42 - 4.0.10)\n",
      "    JPEG 2000:                   build (ver 1.900.1)\n",
      "    OpenEXR:                     build (ver 2.3.0)\n",
      "    HDR:                         YES\n",
      "    SUNRASTER:                   YES\n",
      "    PXM:                         YES\n",
      "    PFM:                         YES\n",
      "\n",
      "  Video I/O:\n",
      "    DC1394:                      NO\n",
      "    FFMPEG:                      YES\n",
      "      avcodec:                   YES (58.62.100)\n",
      "      avformat:                  YES (58.35.100)\n",
      "      avutil:                    YES (56.36.100)\n",
      "      swscale:                   YES (5.6.100)\n",
      "      avresample:                NO\n",
      "    GStreamer:                   NO\n",
      "    v4l/v4l2:                    YES (linux/videodev2.h)\n",
      "\n",
      "  Parallel framework:            pthreads\n",
      "\n",
      "  Trace:                         YES (with Intel ITT)\n",
      "\n",
      "  Other third-party libraries:\n",
      "    Lapack:                      NO\n",
      "    Eigen:                       NO\n",
      "    Custom HAL:                  NO\n",
      "    Protobuf:                    build (3.5.1)\n",
      "\n",
      "  OpenCL:                        YES (no extra features)\n",
      "    Include path:                /io/opencv/3rdparty/include/opencl/1.2\n",
      "    Link libraries:              Dynamic load\n",
      "\n",
      "  Python 3:\n",
      "    Interpreter:                 /opt/python/cp37-cp37m/bin/python (ver 3.7.5)\n",
      "    Libraries:                   libpython3.7m.a (ver 3.7.5)\n",
      "    numpy:                       /opt/python/cp37-cp37m/lib/python3.7/site-packages/numpy/core/include (ver 1.14.5)\n",
      "    install path:                python\n",
      "\n",
      "  Python (for build):            /opt/python/cp37-cp37m/bin/python\n",
      "\n",
      "  Java:                          \n",
      "    ant:                         NO\n",
      "    JNI:                         NO\n",
      "    Java wrappers:               NO\n",
      "    Java tests:                  NO\n",
      "\n",
      "  Install to:                    /io/_skbuild/linux-x86_64-3.7/cmake-install\n",
      "-----------------------------------------------------------------\n",
      "\n",
      "\n"
     ]
    }
   ],
   "source": [
    "print(cv.getBuildInformation())"
   ]
  },
  {
   "cell_type": "markdown",
   "metadata": {},
   "source": [
    "Open webcam (assuming i only have one webcam on my desktop ... so we use index 0). Then check if the webcam is ready to use :"
   ]
  },
  {
   "cell_type": "code",
   "execution_count": 17,
   "metadata": {},
   "outputs": [
    {
     "data": {
      "text/plain": [
       "True"
      ]
     },
     "execution_count": 17,
     "metadata": {},
     "output_type": "execute_result"
    }
   ],
   "source": [
    "webcam = cv.VideoCapture(0)\n",
    "webcam.isOpened()"
   ]
  },
  {
   "cell_type": "markdown",
   "metadata": {},
   "source": [
    "### Open the webcam video in a new window until the user press ESC"
   ]
  },
  {
   "cell_type": "code",
   "execution_count": 18,
   "metadata": {},
   "outputs": [],
   "source": [
    "if webcam.isOpened():\n",
    "    while True:\n",
    "        bImgReady, imageframe = webcam.read() # get frame per frame from the webcam\n",
    "        if bImgReady:\n",
    "            cv.imshow('My webcam', imageframe) # show the frame\n",
    "        else:\n",
    "            print('No image available')\n",
    "        keystroke = cv.waitKey(20) # Wait for Key press\n",
    "        if (keystroke == 27):\n",
    "            break # if key pressed is ESC then escape the loop\n",
    "\n",
    "    webcam.release()\n",
    "    cv.destroyAllWindows()        "
   ]
  },
  {
   "cell_type": "markdown",
   "metadata": {},
   "source": [
    "### Calculate the Number of Images / sec retreived by the camera"
   ]
  },
  {
   "cell_type": "code",
   "execution_count": 19,
   "metadata": {},
   "outputs": [
    {
     "name": "stdout",
     "output_type": "stream",
     "text": [
      "Frame per Sec.:  25.694978989489766\n"
     ]
    }
   ],
   "source": [
    "from time import perf_counter\n",
    "t1_start = perf_counter()\n",
    "frame_count = 0\n",
    "webcam = cv.VideoCapture(0)\n",
    "NB_IMAGES = 100\n",
    "\n",
    "if webcam.isOpened():\n",
    "    while (frame_count < NB_IMAGES):\n",
    "        bImgReady, imageframe = webcam.read() # get frame per frame from the webcam\n",
    "        frame_count += 1\n",
    "        \n",
    "    t1_stop = perf_counter()\n",
    "    print (\"Frame per Sec.: \", NB_IMAGES / (t1_stop - t1_start))\n",
    "\n",
    "    webcam.release()\n",
    "    cv.destroyAllWindows()"
   ]
  },
  {
   "cell_type": "markdown",
   "metadata": {},
   "source": [
    "### Facial detection in the video"
   ]
  },
  {
   "cell_type": "code",
   "execution_count": 7,
   "metadata": {},
   "outputs": [],
   "source": [
    "dirCascadeFiles = r'../opencv/haarcascades_cuda/'\n",
    "# Get files from openCV : https://github.com/opencv/opencv/tree/3.4/data/haarcascades\n",
    "classCascadefacial = cv.CascadeClassifier(dirCascadeFiles + \"haarcascade_frontalface_default.xml\")\n",
    "\n",
    "def facialDetectionAndMark(_image, _classCascade):\n",
    "    imgreturn = _image.copy()\n",
    "    gray = cv.cvtColor(imgreturn, cv.COLOR_BGR2GRAY)\n",
    "    faces = _classCascade.detectMultiScale(\n",
    "        gray,\n",
    "        scaleFactor=1.1,\n",
    "        minNeighbors=5,\n",
    "        minSize=(30, 30),\n",
    "        flags = cv.CASCADE_SCALE_IMAGE\n",
    "    )\n",
    "    for (x, y, w, h) in faces:\n",
    "        cv.rectangle(imgreturn, (x, y), (x+w, y+h), (0, 255, 0), 2)\n",
    "    return imgreturn"
   ]
  },
  {
   "cell_type": "code",
   "execution_count": 20,
   "metadata": {},
   "outputs": [],
   "source": [
    "def videoDetection(_haarclass):\n",
    "    webcam = cv.VideoCapture(0)\n",
    "    if webcam.isOpened():\n",
    "        while True:\n",
    "            bImgReady, imageframe = webcam.read() # get frame per frame from the webcam\n",
    "            if bImgReady:\n",
    "                face = facialDetectionAndMark(imageframe, _haarclass)\n",
    "                cv.imshow('My webcam', face) # show the frame\n",
    "            else:\n",
    "                print('No image available')\n",
    "            keystroke = cv.waitKey(20) # Wait for Key press\n",
    "            if (keystroke == 27):\n",
    "                break # if key pressed is ESC then escape the loop\n",
    "\n",
    "        webcam.release()\n",
    "        cv.destroyAllWindows()   \n",
    "        \n",
    "videoDetection(classCascadefacial)"
   ]
  },
  {
   "cell_type": "markdown",
   "metadata": {},
   "source": [
    "### Eyes detection"
   ]
  },
  {
   "cell_type": "code",
   "execution_count": 11,
   "metadata": {},
   "outputs": [],
   "source": [
    "classCascadeEyes = cv.CascadeClassifier(dirCascadeFiles + \"haarcascade_eye.xml\")\n",
    "videoDetection(classCascadeEyes)"
   ]
  },
  {
   "cell_type": "markdown",
   "metadata": {},
   "source": [
    "### Others ..."
   ]
  },
  {
   "cell_type": "code",
   "execution_count": 13,
   "metadata": {},
   "outputs": [],
   "source": [
    "classCascadeSmile = cv.CascadeClassifier(dirCascadeFiles + \"haarcascade_profileface.xml\")\n",
    "videoDetection(classCascadeSmile)"
   ]
  },
  {
   "cell_type": "code",
   "execution_count": null,
   "metadata": {},
   "outputs": [],
   "source": []
  }
 ],
 "metadata": {
  "kernelspec": {
   "display_name": "Python 3",
   "language": "python",
   "name": "python3"
  },
  "language_info": {
   "codemirror_mode": {
    "name": "ipython",
    "version": 3
   },
   "file_extension": ".py",
   "mimetype": "text/x-python",
   "name": "python",
   "nbconvert_exporter": "python",
   "pygments_lexer": "ipython3",
   "version": "3.7.8"
  }
 },
 "nbformat": 4,
 "nbformat_minor": 4
}
