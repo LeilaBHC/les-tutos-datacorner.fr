{
 "cells": [
  {
   "cell_type": "markdown",
   "metadata": {},
   "source": [
    "installation via  \n",
    "pip install PyPDF2"
   ]
  },
  {
   "cell_type": "code",
   "execution_count": null,
   "metadata": {},
   "outputs": [],
   "source": [
    "from PyPDF2 import PdfFileReader\n",
    "from PyPDF2 import PdfFileWriter"
   ]
  },
  {
   "cell_type": "code",
   "execution_count": null,
   "metadata": {},
   "outputs": [],
   "source": [
    "pdfFileName = \"facture.pdf\""
   ]
  },
  {
   "cell_type": "markdown",
   "metadata": {},
   "source": [
    "# Read document first"
   ]
  },
  {
   "cell_type": "code",
   "execution_count": 51,
   "metadata": {},
   "outputs": [],
   "source": [
    "myFile = \"test.pdf\""
   ]
  },
  {
   "cell_type": "code",
   "execution_count": 52,
   "metadata": {},
   "outputs": [],
   "source": [
    "document = PdfFileReader(open(myFile, 'rb'))\n",
    "metadata = document.getDocumentInfo()"
   ]
  },
  {
   "cell_type": "code",
   "execution_count": 53,
   "metadata": {},
   "outputs": [
    {
     "data": {
      "text/plain": [
       "{'/Author': 'Benoit Cayla',\n",
       " '/Creator': 'Microsoft® Word pour Office\\xa0365',\n",
       " '/CreationDate': \"D:20201110115707+01'00'\",\n",
       " '/ModDate': \"D:20201110115707+01'00'\",\n",
       " '/Producer': 'Microsoft® Word pour Office\\xa0365'}"
      ]
     },
     "execution_count": 53,
     "metadata": {},
     "output_type": "execute_result"
    }
   ],
   "source": [
    "metadata"
   ]
  },
  {
   "cell_type": "code",
   "execution_count": 54,
   "metadata": {},
   "outputs": [
    {
     "name": "stdout",
     "output_type": "stream",
     "text": [
      "Benoit Cayla|test.pdf|No Subject\n"
     ]
    }
   ],
   "source": [
    "author = metadata.author if metadata.author else u'Unknown'\n",
    "title = metadata.title if metadata.title else myFile\n",
    "subject = metadata.subject if metadata.subject else \"No Subject\"\n",
    "print (author + \"|\" + title + \"|\" + subject)"
   ]
  },
  {
   "cell_type": "code",
   "execution_count": 55,
   "metadata": {},
   "outputs": [
    {
     "data": {
      "text/plain": [
       "1"
      ]
     },
     "execution_count": 55,
     "metadata": {},
     "output_type": "execute_result"
    }
   ],
   "source": [
    "document.getNumPages()"
   ]
  },
  {
   "cell_type": "code",
   "execution_count": 56,
   "metadata": {},
   "outputs": [
    {
     "name": "stdout",
     "output_type": "stream",
     "text": [
      "None\n"
     ]
    }
   ],
   "source": [
    "print(document.getFields())"
   ]
  },
  {
   "cell_type": "code",
   "execution_count": 57,
   "metadata": {},
   "outputs": [],
   "source": [
    "pdftext = \"\"\n",
    "for page in range(document.numPages):\n",
    "    pageObj = document.getPage(page)\n",
    "    pdftext += pageObj.extractText().replace('\\n','')"
   ]
  },
  {
   "cell_type": "code",
   "execution_count": 58,
   "metadata": {},
   "outputs": [
    {
     "data": {
      "text/plain": [
       "'Bonjour ceci est un test !  Benoit Cayla '"
      ]
     },
     "execution_count": 58,
     "metadata": {},
     "output_type": "execute_result"
    }
   ],
   "source": [
    "pdftext"
   ]
  },
  {
   "cell_type": "code",
   "execution_count": 16,
   "metadata": {
    "scrolled": false
   },
   "outputs": [
    {
     "data": {
      "text/plain": [
       "{'/Type': '/Page',\n",
       " '/Parent': {'/Type': '/Pages',\n",
       "  '/Count': 3,\n",
       "  '/Kids': [IndirectObject(3, 0), IndirectObject(4, 0), IndirectObject(5, 0)]},\n",
       " '/Resources': {'/Font': {'/F1': {'/Type': '/Font',\n",
       "    '/Subtype': '/TrueType',\n",
       "    '/Name': '/F1',\n",
       "    '/BaseFont': '/BCDEEE+Calibri',\n",
       "    '/Encoding': '/WinAnsiEncoding',\n",
       "    '/FontDescriptor': {'/Type': '/FontDescriptor',\n",
       "     '/FontName': '/BCDEEE+Calibri',\n",
       "     '/Flags': 32,\n",
       "     '/ItalicAngle': 0,\n",
       "     '/Ascent': 750,\n",
       "     '/Descent': -250,\n",
       "     '/CapHeight': 750,\n",
       "     '/AvgWidth': 521,\n",
       "     '/MaxWidth': 1743,\n",
       "     '/FontWeight': 400,\n",
       "     '/XHeight': 250,\n",
       "     '/StemV': 52,\n",
       "     '/FontBBox': [-503, -250, 1240, 750],\n",
       "     '/FontFile2': {'/Filter': '/FlateDecode', '/Length1': 93840}},\n",
       "    '/FirstChar': 32,\n",
       "    '/LastChar': 117,\n",
       "    '/Widths': [226,\n",
       "     0,\n",
       "     0,\n",
       "     0,\n",
       "     0,\n",
       "     0,\n",
       "     0,\n",
       "     0,\n",
       "     0,\n",
       "     0,\n",
       "     0,\n",
       "     0,\n",
       "     0,\n",
       "     0,\n",
       "     0,\n",
       "     0,\n",
       "     0,\n",
       "     0,\n",
       "     0,\n",
       "     507,\n",
       "     0,\n",
       "     0,\n",
       "     0,\n",
       "     0,\n",
       "     0,\n",
       "     0,\n",
       "     0,\n",
       "     0,\n",
       "     0,\n",
       "     0,\n",
       "     0,\n",
       "     0,\n",
       "     0,\n",
       "     0,\n",
       "     0,\n",
       "     0,\n",
       "     0,\n",
       "     0,\n",
       "     459,\n",
       "     0,\n",
       "     0,\n",
       "     0,\n",
       "     0,\n",
       "     0,\n",
       "     0,\n",
       "     0,\n",
       "     646,\n",
       "     0,\n",
       "     0,\n",
       "     0,\n",
       "     0,\n",
       "     0,\n",
       "     0,\n",
       "     0,\n",
       "     0,\n",
       "     0,\n",
       "     0,\n",
       "     0,\n",
       "     0,\n",
       "     0,\n",
       "     0,\n",
       "     0,\n",
       "     0,\n",
       "     0,\n",
       "     0,\n",
       "     0,\n",
       "     0,\n",
       "     423,\n",
       "     0,\n",
       "     498,\n",
       "     0,\n",
       "     0,\n",
       "     525,\n",
       "     230,\n",
       "     0,\n",
       "     0,\n",
       "     0,\n",
       "     799,\n",
       "     0,\n",
       "     527,\n",
       "     0,\n",
       "     0,\n",
       "     349,\n",
       "     0,\n",
       "     0,\n",
       "     525]}},\n",
       "  '/ExtGState': {'/GS7': {'/Type': '/ExtGState', '/BM': '/Normal', '/ca': 1},\n",
       "   '/GS8': {'/Type': '/ExtGState', '/BM': '/Normal', '/CA': 1}},\n",
       "  '/ProcSet': ['/PDF', '/Text', '/ImageB', '/ImageC', '/ImageI']},\n",
       " '/MediaBox': [0, 0, 595.2, 841.92],\n",
       " '/Contents': {'/Filter': '/FlateDecode'},\n",
       " '/Group': {'/Type': '/Group', '/S': '/Transparency', '/CS': '/DeviceRGB'},\n",
       " '/Tabs': '/S',\n",
       " '/StructParents': 0}"
      ]
     },
     "execution_count": 16,
     "metadata": {},
     "output_type": "execute_result"
    }
   ],
   "source": [
    "pageObj"
   ]
  },
  {
   "cell_type": "markdown",
   "metadata": {},
   "source": [
    "# Merge several pdf documents"
   ]
  },
  {
   "cell_type": "code",
   "execution_count": 14,
   "metadata": {},
   "outputs": [],
   "source": [
    "pdflist = [\"test.pdf\" , \"test2.pdf\", \"test3.pdf\"]"
   ]
  },
  {
   "cell_type": "code",
   "execution_count": 15,
   "metadata": {},
   "outputs": [],
   "source": [
    "pdfWriter = PdfFileWriter()\n",
    "for filename in pdflist:\n",
    "    pdfFileObj = open(filename,'rb')\n",
    "    pdfReader = PdfFileReader(pdfFileObj)\n",
    "    for pageNum in range(pdfReader.numPages):\n",
    "        pageObj = pdfReader.getPage(pageNum)\n",
    "        pdfWriter.addPage(pageObj)\n",
    "\n",
    "pdfOutput = open('final.pdf', 'wb')\n",
    "pdfWriter.write(pdfOutput)\n",
    "pdfOutput.close() "
   ]
  },
  {
   "cell_type": "markdown",
   "metadata": {},
   "source": [
    "# Extraction images"
   ]
  },
  {
   "cell_type": "markdown",
   "metadata": {},
   "source": [
    "Need to install the Pillow library  \n",
    "pip install Pillow"
   ]
  },
  {
   "cell_type": "code",
   "execution_count": 22,
   "metadata": {},
   "outputs": [],
   "source": [
    "myFile = \"testimg.pdf\"\n",
    "document = PdfFileReader(open(myFile, 'rb'))"
   ]
  },
  {
   "cell_type": "code",
   "execution_count": 45,
   "metadata": {},
   "outputs": [
    {
     "name": "stdout",
     "output_type": "stream",
     "text": [
      "<Content> {'/Font': {'/F1': IndirectObject(5, 0)}, '/ExtGState': {'/GS7': IndirectObject(7, 0), '/GS8': IndirectObject(8, 0)}, '/XObject': {'/Image9': IndirectObject(9, 0)}, '/ProcSet': ['/PDF', '/Text', '/ImageB', '/ImageC', '/ImageI']}\n",
      "<xObject> {'/Image9': IndirectObject(9, 0)}\n",
      "<xObject[]> /Image\n",
      "<xObject[obj]> {'/Type': '/XObject', '/Subtype': '/Image', '/Width': 894, '/Height': 595, '/ColorSpace': '/DeviceRGB', '/BitsPerComponent': 8, '/Filter': '/DCTDecode', '/Interpolate': <PyPDF2.generic.BooleanObject object at 0x00000197549FDE48>}\n",
      "<Image Size> (894, 595)\n"
     ]
    }
   ],
   "source": [
    "import PyPDF2\n",
    "from PIL import Image\n",
    "\n",
    "with open(myFile, 'rb') as pdf_file:\n",
    "    pdf_reader = PyPDF2.PdfFileReader(pdf_file)\n",
    "    page0 = pdf_reader.getPage(0)\n",
    "\n",
    "    print(\"<Content> \" + str(page0['/Resources']))\n",
    "    \n",
    "    if '/XObject' in page0['/Resources']:\n",
    "        xObject = page0['/Resources']['/XObject'].getObject()\n",
    "        print(\"<xObject> \" + str(xObject))\n",
    "        \n",
    "        for obj in xObject:\n",
    "            print(\"<xObject[]> \" + str(xObject[obj]['/Subtype']))\n",
    "            if xObject[obj]['/Subtype'] == '/Image':\n",
    "                print(\"<xObject[obj]> \" + str(xObject[obj]))\n",
    "                size = (xObject[obj]['/Width'], xObject[obj]['/Height'])\n",
    "                print(\"<Image Size> \" + str(size))\n",
    "    else:\n",
    "        print(\"No image found.\")"
   ]
  },
  {
   "cell_type": "markdown",
   "metadata": {},
   "source": [
    "To extract the image into a file try https://gist.github.com/maphew/fe6ba4bf9ed2bc98ecf5"
   ]
  }
 ],
 "metadata": {
  "kernelspec": {
   "display_name": "Python 3",
   "language": "python",
   "name": "python3"
  },
  "language_info": {
   "codemirror_mode": {
    "name": "ipython",
    "version": 3
   },
   "file_extension": ".py",
   "mimetype": "text/x-python",
   "name": "python",
   "nbconvert_exporter": "python",
   "pygments_lexer": "ipython3",
   "version": "3.7.3"
  }
 },
 "nbformat": 4,
 "nbformat_minor": 2
}
